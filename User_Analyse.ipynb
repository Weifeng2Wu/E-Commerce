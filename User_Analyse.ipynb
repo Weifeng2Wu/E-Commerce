{
  "cells": [
    {
      "cell_type": "code",
      "execution_count": 2,
      "metadata": {
        "colab": {
          "base_uri": "https://localhost:8080/"
        },
        "id": "MTaPi5c8Q4PV",
        "outputId": "4b5667c0-3fcb-4ecf-dda3-bc322eca7525"
      },
      "outputs": [
        {
          "name": "stdout",
          "output_type": "stream",
          "text": [
            "Looking in indexes: https://pypi.org/simple, https://us-python.pkg.dev/colab-wheels/public/simple/\n",
            "Collecting pyspark\n",
            "  Downloading pyspark-3.4.0.tar.gz (310.8 MB)\n",
            "\u001b[2K     \u001b[90m━━━━━━━━━━━━━━━━━━━━━━━━━━━━━━━━━━━━━━━\u001b[0m \u001b[32m310.8/310.8 MB\u001b[0m \u001b[31m4.0 MB/s\u001b[0m eta \u001b[36m0:00:00\u001b[0m\n",
            "\u001b[?25h  Preparing metadata (setup.py) ... \u001b[?25l\u001b[?25hdone\n",
            "Requirement already satisfied: py4j==0.10.9.7 in /usr/local/lib/python3.9/dist-packages (from pyspark) (0.10.9.7)\n",
            "Building wheels for collected packages: pyspark\n",
            "  Building wheel for pyspark (setup.py) ... \u001b[?25l\u001b[?25hdone\n",
            "  Created wheel for pyspark: filename=pyspark-3.4.0-py2.py3-none-any.whl size=311317145 sha256=e0d14265f5d5d2e2040064961cbad00b2082c1072d4e3be12289d05416d8f1a9\n",
            "  Stored in directory: /root/.cache/pip/wheels/9f/34/a4/159aa12d0a510d5ff7c8f0220abbea42e5d81ecf588c4fd884\n",
            "Successfully built pyspark\n",
            "Installing collected packages: pyspark\n",
            "Successfully installed pyspark-3.4.0\n",
            "The following additional packages will be installed:\n",
            "  libxtst6 openjdk-8-jre-headless\n",
            "Suggested packages:\n",
            "  openjdk-8-demo openjdk-8-source libnss-mdns fonts-dejavu-extra\n",
            "  fonts-ipafont-gothic fonts-ipafont-mincho fonts-wqy-microhei\n",
            "  fonts-wqy-zenhei fonts-indic\n",
            "The following NEW packages will be installed:\n",
            "  libxtst6 openjdk-8-jdk-headless openjdk-8-jre-headless\n",
            "0 upgraded, 3 newly installed, 0 to remove and 24 not upgraded.\n",
            "Need to get 36.5 MB of archives.\n",
            "After this operation, 144 MB of additional disk space will be used.\n",
            "Selecting previously unselected package libxtst6:amd64.\n",
            "(Reading database ... 122352 files and directories currently installed.)\n",
            "Preparing to unpack .../libxtst6_2%3a1.2.3-1_amd64.deb ...\n",
            "Unpacking libxtst6:amd64 (2:1.2.3-1) ...\n",
            "Selecting previously unselected package openjdk-8-jre-headless:amd64.\n",
            "Preparing to unpack .../openjdk-8-jre-headless_8u362-ga-0ubuntu1~20.04.1_amd64.deb ...\n",
            "Unpacking openjdk-8-jre-headless:amd64 (8u362-ga-0ubuntu1~20.04.1) ...\n",
            "Selecting previously unselected package openjdk-8-jdk-headless:amd64.\n",
            "Preparing to unpack .../openjdk-8-jdk-headless_8u362-ga-0ubuntu1~20.04.1_amd64.deb ...\n",
            "Unpacking openjdk-8-jdk-headless:amd64 (8u362-ga-0ubuntu1~20.04.1) ...\n",
            "Setting up libxtst6:amd64 (2:1.2.3-1) ...\n",
            "Setting up openjdk-8-jre-headless:amd64 (8u362-ga-0ubuntu1~20.04.1) ...\n",
            "update-alternatives: using /usr/lib/jvm/java-8-openjdk-amd64/jre/bin/orbd to provide /usr/bin/orbd (orbd) in auto mode\n",
            "update-alternatives: using /usr/lib/jvm/java-8-openjdk-amd64/jre/bin/servertool to provide /usr/bin/servertool (servertool) in auto mode\n",
            "update-alternatives: using /usr/lib/jvm/java-8-openjdk-amd64/jre/bin/tnameserv to provide /usr/bin/tnameserv (tnameserv) in auto mode\n",
            "Setting up openjdk-8-jdk-headless:amd64 (8u362-ga-0ubuntu1~20.04.1) ...\n",
            "update-alternatives: using /usr/lib/jvm/java-8-openjdk-amd64/bin/idlj to provide /usr/bin/idlj (idlj) in auto mode\n",
            "update-alternatives: using /usr/lib/jvm/java-8-openjdk-amd64/bin/wsimport to provide /usr/bin/wsimport (wsimport) in auto mode\n",
            "update-alternatives: using /usr/lib/jvm/java-8-openjdk-amd64/bin/jsadebugd to provide /usr/bin/jsadebugd (jsadebugd) in auto mode\n",
            "update-alternatives: using /usr/lib/jvm/java-8-openjdk-amd64/bin/native2ascii to provide /usr/bin/native2ascii (native2ascii) in auto mode\n",
            "update-alternatives: using /usr/lib/jvm/java-8-openjdk-amd64/bin/javah to provide /usr/bin/javah (javah) in auto mode\n",
            "update-alternatives: using /usr/lib/jvm/java-8-openjdk-amd64/bin/hsdb to provide /usr/bin/hsdb (hsdb) in auto mode\n",
            "update-alternatives: using /usr/lib/jvm/java-8-openjdk-amd64/bin/clhsdb to provide /usr/bin/clhsdb (clhsdb) in auto mode\n",
            "update-alternatives: using /usr/lib/jvm/java-8-openjdk-amd64/bin/xjc to provide /usr/bin/xjc (xjc) in auto mode\n",
            "update-alternatives: using /usr/lib/jvm/java-8-openjdk-amd64/bin/schemagen to provide /usr/bin/schemagen (schemagen) in auto mode\n",
            "update-alternatives: using /usr/lib/jvm/java-8-openjdk-amd64/bin/extcheck to provide /usr/bin/extcheck (extcheck) in auto mode\n",
            "update-alternatives: using /usr/lib/jvm/java-8-openjdk-amd64/bin/jhat to provide /usr/bin/jhat (jhat) in auto mode\n",
            "update-alternatives: using /usr/lib/jvm/java-8-openjdk-amd64/bin/wsgen to provide /usr/bin/wsgen (wsgen) in auto mode\n",
            "Processing triggers for libc-bin (2.31-0ubuntu9.9) ...\n"
          ]
        }
      ],
      "source": [
        "!pip install pyspark\n",
        "!pip install -U -q PyDrive\n",
        "!apt install openjdk-8-jdk-headless -qq\n",
        "import os\n",
        "os.environ[\"JAVA_HOME\"] = \"/usr/lib/jvm/java-8-openjdk-amd64\""
      ]
    },
    {
      "cell_type": "code",
      "execution_count": 3,
      "metadata": {
        "colab": {
          "base_uri": "https://localhost:8080/"
        },
        "id": "BgZDbHohLvAD",
        "outputId": "6d778fb2-f8cc-45b2-d72f-c5c13e7ad9e3"
      },
      "outputs": [
        {
          "name": "stdout",
          "output_type": "stream",
          "text": [
            "Mounted at /content/gdrive\n"
          ]
        }
      ],
      "source": [
        "from google.colab import drive\n",
        "drive.mount('/content/gdrive')\n"
      ]
    },
    {
      "cell_type": "code",
      "execution_count": 4,
      "metadata": {
        "id": "E2noUuQdJGX4"
      },
      "outputs": [],
      "source": [
        "import numpy as np\n",
        "import pandas as pd\n",
        "import matplotlib.pyplot as plt\n",
        "from pyspark.sql import SparkSession\n",
        "from pyspark.sql.functions import *\n",
        "import logging\n"
      ]
    },
    {
      "cell_type": "code",
      "execution_count": 5,
      "metadata": {
        "id": "C8XZ5lYVJGX5"
      },
      "outputs": [],
      "source": [
        "spark =  SparkSession.builder\\\n",
        "    .appName('MyData') \\\n",
        "    .getOrCreate()\n",
        "\n",
        "spark.sparkContext.setLogLevel(\"ERROR\")\n",
        "\n",
        "df = spark.read \\\n",
        "         .option(\"header\", \"true\") \\\n",
        "         .csv(\"/content/gdrive/MyDrive/UserBehavior.csv\") \\\n",
        "         .toDF(\"user_id\", \"item_id\", \"category_id\", \"action_type\",\"timestamp\")\n"
      ]
    },
    {
      "cell_type": "code",
      "execution_count": null,
      "metadata": {
        "colab": {
          "base_uri": "https://localhost:8080/"
        },
        "id": "6LtmSxBOJGX6",
        "outputId": "bbd7e53c-a8bd-460e-df9d-24dd79bc9425"
      },
      "outputs": [
        {
          "name": "stdout",
          "output_type": "stream",
          "text": [
            "root\n",
            " |-- user_id: string (nullable = true)\n",
            " |-- item_id: string (nullable = true)\n",
            " |-- category_id: string (nullable = true)\n",
            " |-- action_type: string (nullable = true)\n",
            " |-- timestamp: string (nullable = true)\n",
            "\n"
          ]
        }
      ],
      "source": [
        "df.printSchema()"
      ]
    },
    {
      "cell_type": "code",
      "execution_count": null,
      "metadata": {
        "colab": {
          "base_uri": "https://localhost:8080/"
        },
        "id": "QGd8YJA7JGX6",
        "outputId": "e89429fc-9563-4992-d635-ff31912b2ec3"
      },
      "outputs": [
        {
          "name": "stdout",
          "output_type": "stream",
          "text": [
            "+-------+-------+-----------+-----------+----------+\n",
            "|user_id|item_id|category_id|action_type| timestamp|\n",
            "+-------+-------+-----------+-----------+----------+\n",
            "|      1|2333346|    2520771|         pv|1511561733|\n",
            "|      1|2576651|     149192|         pv|1511572885|\n",
            "|      1|3830808|    4181361|         pv|1511593493|\n",
            "|      1|4365585|    2520377|         pv|1511596146|\n",
            "|      1|4606018|    2735466|         pv|1511616481|\n",
            "|      1| 230380|     411153|         pv|1511644942|\n",
            "|      1|3827899|    2920476|         pv|1511713473|\n",
            "|      1|3745169|    2891509|         pv|1511725471|\n",
            "|      1|1531036|    2920476|         pv|1511733732|\n",
            "|      1|2266567|    4145813|         pv|1511741471|\n",
            "|      1|2951368|    1080785|         pv|1511750828|\n",
            "|      1|3108797|    2355072|         pv|1511758881|\n",
            "|      1|1338525|     149192|         pv|1511773214|\n",
            "|      1|2286574|    2465336|         pv|1511797167|\n",
            "|      1|5002615|    2520377|         pv|1511839385|\n",
            "|      1|2734026|    4145813|         pv|1511842184|\n",
            "|      1|5002615|    2520377|         pv|1511844273|\n",
            "|      1|3239041|    2355072|         pv|1511855664|\n",
            "|      1|4615417|    4145813|         pv|1511870864|\n",
            "|      1|4152983|    2355072|         pv|1511871096|\n",
            "+-------+-------+-----------+-----------+----------+\n",
            "only showing top 20 rows\n",
            "\n"
          ]
        }
      ],
      "source": [
        "df.show()"
      ]
    },
    {
      "cell_type": "code",
      "execution_count": null,
      "metadata": {
        "colab": {
          "base_uri": "https://localhost:8080/"
        },
        "id": "WKuS6JDGJGX6",
        "outputId": "f7ba9df2-d868-4ac3-c39b-4e64b13c4d4a"
      },
      "outputs": [
        {
          "name": "stdout",
          "output_type": "stream",
          "text": [
            "col: user_id, number of Null: 0\n",
            "col: item_id, number of Null: 0\n",
            "col: category_id, number of Null: 0\n",
            "col: action_type, number of Null: 0\n",
            "col: timestamp, number of Null: 0\n"
          ]
        }
      ],
      "source": [
        "for c in df.columns:\n",
        "    null_count = df.filter(col(c).isNull()).count()\n",
        "    print(\"col: {}, number of Null: {}\".format(c, null_count))\n"
      ]
    },
    {
      "cell_type": "markdown",
      "metadata": {
        "id": "iayBbQ8SJGX6"
      },
      "source": [
        "There are no missing value"
      ]
    },
    {
      "cell_type": "code",
      "execution_count": null,
      "metadata": {
        "colab": {
          "base_uri": "https://localhost:8080/"
        },
        "id": "vRvm6IwmJGX7",
        "outputId": "374e7fc9-bc9e-4301-9736-fe7a4e1cd004"
      },
      "outputs": [
        {
          "name": "stdout",
          "output_type": "stream",
          "text": [
            "Duplicates found and removed\n"
          ]
        }
      ],
      "source": [
        "df_duplicates = df.dropDuplicates()\n",
        "\n",
        "if df.count() == df_duplicates.count():\n",
        "    print(\"No duplicates found\")\n",
        "else:\n",
        "    print(\"Duplicates found and removed\")\n"
      ]
    },
    {
      "cell_type": "markdown",
      "metadata": {
        "id": "jayW3oTpV8yR"
      },
      "source": [
        "Since dataset collect from Chinese plateform, so the timezone is GMT+8"
      ]
    },
    {
      "cell_type": "code",
      "execution_count": 6,
      "metadata": {
        "colab": {
          "base_uri": "https://localhost:8080/"
        },
        "id": "OniPKcQzJGX7",
        "outputId": "70f1d0ff-eb07-49cd-a2d6-8488108196b4"
      },
      "outputs": [
        {
          "name": "stdout",
          "output_type": "stream",
          "text": [
            "+-------+-------+-----------+-----------+-------------------+----------+--------+\n",
            "|user_id|item_id|category_id|action_type|           datetime|      date|    time|\n",
            "+-------+-------+-----------+-----------+-------------------+----------+--------+\n",
            "|      1|2333346|    2520771|         pv|2017-11-25 06:15:33|2017-11-25|06:15:33|\n",
            "|      1|2576651|     149192|         pv|2017-11-25 09:21:25|2017-11-25|09:21:25|\n",
            "|      1|3830808|    4181361|         pv|2017-11-25 15:04:53|2017-11-25|15:04:53|\n",
            "|      1|4365585|    2520377|         pv|2017-11-25 15:49:06|2017-11-25|15:49:06|\n",
            "|      1|4606018|    2735466|         pv|2017-11-25 21:28:01|2017-11-25|21:28:01|\n",
            "|      1| 230380|     411153|         pv|2017-11-26 05:22:22|2017-11-26|05:22:22|\n",
            "|      1|3827899|    2920476|         pv|2017-11-27 00:24:33|2017-11-27|00:24:33|\n",
            "|      1|3745169|    2891509|         pv|2017-11-27 03:44:31|2017-11-27|03:44:31|\n",
            "|      1|1531036|    2920476|         pv|2017-11-27 06:02:12|2017-11-27|06:02:12|\n",
            "|      1|2266567|    4145813|         pv|2017-11-27 08:11:11|2017-11-27|08:11:11|\n",
            "|      1|2951368|    1080785|         pv|2017-11-27 10:47:08|2017-11-27|10:47:08|\n",
            "|      1|3108797|    2355072|         pv|2017-11-27 13:01:21|2017-11-27|13:01:21|\n",
            "|      1|1338525|     149192|         pv|2017-11-27 17:00:14|2017-11-27|17:00:14|\n",
            "|      1|2286574|    2465336|         pv|2017-11-27 23:39:27|2017-11-27|23:39:27|\n",
            "|      1|5002615|    2520377|         pv|2017-11-28 11:23:05|2017-11-28|11:23:05|\n",
            "|      1|2734026|    4145813|         pv|2017-11-28 12:09:44|2017-11-28|12:09:44|\n",
            "|      1|5002615|    2520377|         pv|2017-11-28 12:44:33|2017-11-28|12:44:33|\n",
            "|      1|3239041|    2355072|         pv|2017-11-28 15:54:24|2017-11-28|15:54:24|\n",
            "|      1|4615417|    4145813|         pv|2017-11-28 20:07:44|2017-11-28|20:07:44|\n",
            "|      1|4152983|    2355072|         pv|2017-11-28 20:11:36|2017-11-28|20:11:36|\n",
            "+-------+-------+-----------+-----------+-------------------+----------+--------+\n",
            "only showing top 20 rows\n",
            "\n"
          ]
        }
      ],
      "source": [
        "df = df.withColumn(\"datetime\", from_utc_timestamp(from_unixtime(col(\"timestamp\")), \"GMT+8\"))\n",
        "df = df.withColumn(\"date\", split(col(\"datetime\"), \" \").getItem(0))  \n",
        "df = df.withColumn(\"time\", split(col(\"datetime\"), \" \").getItem(1)) \n",
        "\n",
        "df = df.drop(\"timestamp\")\n",
        "df.show()"
      ]
    },
    {
      "cell_type": "markdown",
      "metadata": {
        "id": "8_ZNh8k4JGX8"
      },
      "source": [
        "Since the dataset include 2017/11/25 - 2017/12/3, I will drop other data which are not in the period. \n",
        "\n",
        "Action Type :  \n",
        "- PV - Page View  \n",
        "- buy  \n",
        "- cart   \n",
        "- fav \n"
      ]
    },
    {
      "cell_type": "code",
      "execution_count": 7,
      "metadata": {
        "id": "ICVc8YghJGX8"
      },
      "outputs": [],
      "source": [
        "from pyspark.sql.functions import col"
      ]
    },
    {
      "cell_type": "code",
      "execution_count": 8,
      "metadata": {
        "id": "raKB6ESrJGX8"
      },
      "outputs": [],
      "source": [
        "df = df.filter((col(\"date\") >= lit(\"2017-11-25\")) & (col(\"date\") <= lit(\"2017-12-03\")))"
      ]
    },
    {
      "cell_type": "code",
      "execution_count": 9,
      "metadata": {
        "id": "JvnCAe8PJGX8"
      },
      "outputs": [],
      "source": [
        "df = df.withColumn('hour', hour('time'))"
      ]
    },
    {
      "cell_type": "markdown",
      "metadata": {
        "id": "ktLLR1KtJGX9"
      },
      "source": [
        "Based on daily access traffic analysis."
      ]
    },
    {
      "cell_type": "code",
      "execution_count": null,
      "metadata": {
        "colab": {
          "base_uri": "https://localhost:8080/"
        },
        "id": "pRR8p-fwJGX9",
        "outputId": "fcc86c43-f6a1-4d02-b9a3-03d55e4a9320"
      },
      "outputs": [
        {
          "name": "stdout",
          "output_type": "stream",
          "text": [
            "+----------+-------+-----+\n",
            "|      date|user_id|count|\n",
            "+----------+-------+-----+\n",
            "|2017-11-25|    100|   19|\n",
            "|2017-11-25|   1000|   11|\n",
            "|2017-11-25| 100000|    5|\n",
            "|2017-11-25|1000004|    7|\n",
            "|2017-11-25|1000007|    3|\n",
            "|2017-11-25|1000014|   52|\n",
            "|2017-11-25|1000018|    2|\n",
            "|2017-11-25|1000021|   22|\n",
            "|2017-11-25|1000025|    1|\n",
            "|2017-11-25|1000030|   34|\n",
            "|2017-11-25|1000031|   51|\n",
            "|2017-11-25|1000034|   17|\n",
            "|2017-11-25|1000037|    6|\n",
            "|2017-11-25| 100004|   35|\n",
            "|2017-11-25|1000040|   36|\n",
            "|2017-11-25|1000041|   22|\n",
            "|2017-11-25|1000042|    1|\n",
            "|2017-11-25|1000043|   17|\n",
            "|2017-11-25|1000044|    4|\n",
            "|2017-11-25|1000050|    4|\n",
            "+----------+-------+-----+\n",
            "only showing top 20 rows\n",
            "\n"
          ]
        }
      ],
      "source": [
        "df.groupBy('date', 'user_id').count().show()"
      ]
    },
    {
      "cell_type": "markdown",
      "metadata": {
        "id": "NktrptzXJGX9"
      },
      "source": [
        "## Web traffic analysis"
      ]
    },
    {
      "cell_type": "markdown",
      "metadata": {
        "id": "HLz4t5okJGX9"
      },
      "source": [
        "### daily Page View\n",
        "\n"
      ]
    },
    {
      "cell_type": "code",
      "execution_count": null,
      "metadata": {
        "colab": {
          "background_save": true
        },
        "id": "1xo7u7LGJGX9",
        "outputId": "d84f7633-a54e-4fd2-e421-2eee09435d9b"
      },
      "outputs": [
        {
          "name": "stdout",
          "output_type": "stream",
          "text": [
            "+----------+--------+\n",
            "|      date|pv_daily|\n",
            "+----------+--------+\n",
            "|2017-12-03|13662159|\n",
            "|2017-12-01|10859436|\n",
            "|2017-12-02|13777869|\n",
            "|2017-11-25|10420014|\n",
            "|2017-11-27|10101147|\n",
            "|2017-11-28| 9878190|\n",
            "|2017-11-26|10664602|\n",
            "|2017-11-30|10447740|\n",
            "|2017-11-29|10284073|\n",
            "+----------+--------+\n",
            "\n"
          ]
        }
      ],
      "source": [
        "pv_daily = df.groupBy('date').agg(count('user_id').alias('pv_daily'))\n",
        "pv_daily.show()"
      ]
    },
    {
      "cell_type": "markdown",
      "metadata": {
        "id": "6ZwNyu5WJGX9"
      },
      "source": [
        "### Unique Vistor"
      ]
    },
    {
      "cell_type": "code",
      "execution_count": null,
      "metadata": {
        "colab": {
          "background_save": true
        },
        "id": "czIK8iRvJGX9",
        "outputId": "cf938c5b-6d51-42ac-8986-3aa123d2dfac"
      },
      "outputs": [
        {
          "name": "stdout",
          "output_type": "stream",
          "text": [
            "+----------+--------+\n",
            "|      date|uv_daily|\n",
            "+----------+--------+\n",
            "|2017-12-03|  966977|\n",
            "|2017-12-01|  740139|\n",
            "|2017-12-02|  970401|\n",
            "|2017-11-25|  706641|\n",
            "|2017-11-27|  710094|\n",
            "|2017-11-28|  709257|\n",
            "|2017-11-26|  715516|\n",
            "|2017-11-30|  730597|\n",
            "|2017-11-29|  718922|\n",
            "+----------+--------+\n",
            "\n"
          ]
        }
      ],
      "source": [
        "uv_daily = df.groupBy('date').agg(countDistinct('user_id').alias('uv_daily'))\n",
        "uv_daily.show()"
      ]
    },
    {
      "cell_type": "code",
      "execution_count": null,
      "metadata": {
        "colab": {
          "background_save": true,
          "base_uri": "https://localhost:8080/",
          "height": 505
        },
        "id": "jmVQW-o7JGX-",
        "outputId": "1b6cba15-7b5d-4315-f23c-96c3baad143e"
      },
      "outputs": [
        {
          "data": {
            "image/png": "[encoded data removed]",
            "text/plain": [
              "<Figure size 640x480 with 2 Axes>"
            ]
          },
          "metadata": {},
          "output_type": "display_data"
        }
      ],
      "source": [
        "pv_daily = pv_daily.orderBy(asc('date'))\n",
        "uv_daily = uv_daily.orderBy(asc('date'))\n",
        "\n",
        "pv_daily_pd = pv_daily.toPandas()\n",
        "uv_daily_pd = uv_daily.toPandas()\n",
        "\n",
        "fig, axes = plt.subplots(2,1,sharex=True)\n",
        "axes[0].plot(pv_daily_pd['date'], pv_daily_pd['pv_daily'], color='red')\n",
        "axes[1].plot(uv_daily_pd['date'], uv_daily_pd['uv_daily'], color='blue')\n",
        "plt.xticks(rotation=45)\n",
        "axes[0].set_title('pv_daily')\n",
        "axes[1].set_title('uv_daily')\n",
        "plt.show()\n"
      ]
    },
    {
      "attachments": {},
      "cell_type": "markdown",
      "metadata": {
        "id": "r9cm-0syJGX-"
      },
      "source": [
        "Based on the above chart, both page views and unique views reached their peak on the sceond of Dec and then declined. After checking, 12/02 and 12/03 are weekend, there are more people in weekend than weekday."
      ]
    },
    {
      "cell_type": "code",
      "execution_count": null,
      "metadata": {
        "colab": {
          "background_save": true,
          "base_uri": "https://localhost:8080/"
        },
        "id": "GM3fiq4xJGX-",
        "outputId": "ab032217-fce0-4320-8c41-d85578fa0e64"
      },
      "outputs": [
        {
          "name": "stdout",
          "output_type": "stream",
          "text": [
            "+-------+-------+-----------+-----------+-------------------+----------+--------+----+\n",
            "|user_id|item_id|category_id|action_type|           datetime|      date|    time|hour|\n",
            "+-------+-------+-----------+-----------+-------------------+----------+--------+----+\n",
            "| 144017| 554088|     866301|        buy|2017-12-03 23:59:59|2017-12-03|23:59:59|  23|\n",
            "| 867421|4113292|    3702593|       cart|2017-12-03 23:59:59|2017-12-03|23:59:59|  23|\n",
            "| 619469|2917531|      58498|        fav|2017-12-03 23:59:59|2017-12-03|23:59:59|  23|\n",
            "| 871420|3941546|    3497230|        buy|2017-12-03 23:59:59|2017-12-03|23:59:59|  23|\n",
            "| 472821| 481452|    2520377|        fav|2017-12-03 23:59:59|2017-12-03|23:59:59|  23|\n",
            "|  89523|3905977|    2732466|        fav|2017-12-03 23:59:59|2017-12-03|23:59:59|  23|\n",
            "| 749100| 805058|    2520377|       cart|2017-12-03 23:59:59|2017-12-03|23:59:59|  23|\n",
            "| 933887|3657454|    3738615|       cart|2017-12-03 23:59:59|2017-12-03|23:59:59|  23|\n",
            "| 333794|1959402|    3100520|        buy|2017-12-03 23:59:59|2017-12-03|23:59:59|  23|\n",
            "| 189864|2546392|    2807166|        buy|2017-12-03 23:59:59|2017-12-03|23:59:59|  23|\n",
            "+-------+-------+-----------+-----------+-------------------+----------+--------+----+\n",
            "only showing top 10 rows\n",
            "\n"
          ]
        }
      ],
      "source": [
        "df.orderBy(desc('date'),desc('time')).show(10)"
      ]
    },
    {
      "cell_type": "code",
      "execution_count": null,
      "metadata": {
        "colab": {
          "background_save": true
        },
        "id": "KhPujAr3JGX-",
        "outputId": "7006b05d-c433-4200-c82f-9a98f1de93e2"
      },
      "outputs": [
        {
          "name": "stdout",
          "output_type": "stream",
          "text": [
            "+-------+-------+-----------+-----------+-------------------+----------+--------+----+\n",
            "|user_id|item_id|category_id|action_type|           datetime|      date|    time|hour|\n",
            "+-------+-------+-----------+-----------+-------------------+----------+--------+----+\n",
            "|1000856|3865796|    2520771|         pv|2017-12-02 23:59:59|2017-12-02|23:59:59|  23|\n",
            "| 811079|2020265|    1834026|         pv|2017-12-02 23:59:59|2017-12-02|23:59:59|  23|\n",
            "| 959844|3564596|    1651662|       cart|2017-12-02 23:59:59|2017-12-02|23:59:59|  23|\n",
            "| 851229|3028187|    3738615|         pv|2017-12-02 23:59:59|2017-12-02|23:59:59|  23|\n",
            "| 631980|1201669|    1286537|         pv|2017-12-02 23:59:59|2017-12-02|23:59:59|  23|\n",
            "| 796833|1616494|    4358294|         pv|2017-12-02 23:59:59|2017-12-02|23:59:59|  23|\n",
            "| 991540|3162930|    1879194|         pv|2017-12-02 23:59:59|2017-12-02|23:59:59|  23|\n",
            "| 827958| 981297|     983613|         pv|2017-12-02 23:59:59|2017-12-02|23:59:59|  23|\n",
            "| 458497|3910351|     200278|         pv|2017-12-02 23:59:59|2017-12-02|23:59:59|  23|\n",
            "| 860345|3591213|    3123784|         pv|2017-12-02 23:59:59|2017-12-02|23:59:59|  23|\n",
            "+-------+-------+-----------+-----------+-------------------+----------+--------+----+\n",
            "only showing top 10 rows\n",
            "\n"
          ]
        }
      ],
      "source": [
        "df.filter((df.date == '2017-12-02')).orderBy(desc('time')).show(10)"
      ]
    },
    {
      "cell_type": "markdown",
      "metadata": {
        "id": "LwwqQlf6JGX_"
      },
      "source": [
        "## hour traffic analysis"
      ]
    },
    {
      "cell_type": "code",
      "execution_count": 12,
      "metadata": {
        "id": "8YOz0xeKJGX_"
      },
      "outputs": [],
      "source": [
        "# Calculating PV per hour.\n",
        "pv_hour = df.groupBy('hour').agg(count('user_id').alias('pv_hour'))\n",
        "pv_hour.show(10)"
      ]
    },
    {
      "cell_type": "code",
      "execution_count": 13,
      "metadata": {
        "id": "YTs5sLgIJGX_"
      },
      "outputs": [],
      "source": [
        "# Calculating UV per hour.\n",
        "uv_hour = df.groupBy('hour').agg(countDistinct('user_id').alias('uv_hour'))\n",
        "uv_hour.show()"
      ]
    },
    {
      "cell_type": "code",
      "execution_count": null,
      "metadata": {
        "colab": {
          "background_save": true
        },
        "id": "bs4I-gJnJGYA",
        "outputId": "e480380f-8cb9-4d10-f62b-9052d86052b2"
      },
      "outputs": [
        {
          "data": {
            "image/png": "[encoded data removed]",
            "text/plain": [
              "<Figure size 640x480 with 2 Axes>"
            ]
          },
          "metadata": {},
          "output_type": "display_data"
        }
      ],
      "source": [
        "pv_hour = pv_hour.orderBy(asc('hour'))\n",
        "uv_hour = uv_hour.orderBy(asc('hour'))\n",
        "\n",
        "pv_hour_pd = pv_hour.toPandas()\n",
        "uv_hour_pd = uv_hour.toPandas()\n",
        "\n",
        "fig, axes = plt.subplots(2,1,sharex=True)\n",
        "axes[0].plot(pv_hour_pd['hour'], pv_hour_pd['pv_hour'], color='red')\n",
        "axes[1].plot(uv_hour_pd['hour'], uv_hour_pd['uv_hour'], color='blue')\n",
        "plt.xticks(rotation=45)\n",
        "plt.xticks(np.arange(0, 24, 1))\n",
        "axes[0].set_title('pv_hour')\n",
        "axes[1].set_title('uv_hour')\n",
        "plt.show()\n"
      ]
    },
    {
      "attachments": {},
      "cell_type": "markdown",
      "metadata": {
        "id": "fow_myP1JGYA"
      },
      "source": [
        "The overall trend of these two graphs is consistent, with the lowest point reached around 4 a.m. followed by a gradual increase. There is little variation in the viewing volume around 10 a.m. The viewing volume starts to rise from 5 p.m. and peaks at 9 p.m. One possible explanation for the relatively unchanged viewing volume in the afternoon could be that a majority of people have started working during that time period, resulting in minimal changes."
      ]
    },
    {
      "attachments": {},
      "cell_type": "markdown",
      "metadata": {
        "id": "_j_bIs1SJGYA"
      },
      "source": [
        "Based on the similarity of the patterns between December 2nd and December 3rd, both being weekends, I will conduct a detailed analysis on the data specifically for December 2nd."
      ]
    },
    {
      "cell_type": "code",
      "execution_count": 10,
      "metadata": {
        "id": "a4NZfWTpJGYA"
      },
      "outputs": [],
      "source": [
        "df_1202 = df.filter(df['date'] == '2017-12-02')\n",
        "pv_hour_1202 = df_1202.groupBy('hour').agg({'user_id': 'count'}).withColumnRenamed('count(user_id)', '1202_pv_hour')\n",
        "uv_hour_1202 = df_1202.groupBy('hour').agg(countDistinct('user_id').alias('1202_uv_hour')).withColumnRenamed('count(DISTINCT user_id)', '1202_uv_hour')\n"
      ]
    },
    {
      "cell_type": "code",
      "execution_count": 14,
      "metadata": {
        "colab": {
          "base_uri": "https://localhost:8080/",
          "height": 461
        },
        "id": "h6KCNkBFJGYA",
        "outputId": "79ad8f60-aa5e-4a29-fb54-b780d3ac090e"
      },
      "outputs": [
        {
          "data": {
            "image/png": "[encoded data removed]",
            "text/plain": [
              "<Figure size 640x480 with 2 Axes>"
            ]
          },
          "metadata": {},
          "output_type": "display_data"
        }
      ],
      "source": [
        "pv_hour = pv_hour.orderBy(asc('hour'))\n",
        "pv_hour_1202 = pv_hour_1202.orderBy(asc('hour'))\n",
        "\n",
        "pv_hour_pd = pv_hour.toPandas()\n",
        "pv_hour_1202_pd = pv_hour_1202.toPandas()\n",
        "\n",
        "fig, axes = plt.subplots(2,1,sharex=True)\n",
        "axes[0].plot(pv_hour_pd['hour'], pv_hour_pd['pv_hour'], color='red')\n",
        "axes[1].plot(pv_hour_1202_pd['hour'], pv_hour_1202_pd['1202_pv_hour'], color='blue')\n",
        "plt.xticks(rotation=45)\n",
        "plt.xticks(np.arange(0, 24, 1))\n",
        "axes[0].set_title('pv_hour')\n",
        "axes[1].set_title('pv_hour_1202')\n",
        "plt.show()\n"
      ]
    },
    {
      "cell_type": "code",
      "execution_count": 15,
      "metadata": {
        "colab": {
          "base_uri": "https://localhost:8080/",
          "height": 461
        },
        "id": "7vTOV0ztJGYA",
        "outputId": "0e255f51-87a5-4dea-f22b-7da56cbffce0"
      },
      "outputs": [
        {
          "data": {
            "image/png": "[encoded data removed]",
            "text/plain": [
              "<Figure size 640x480 with 2 Axes>"
            ]
          },
          "metadata": {},
          "output_type": "display_data"
        }
      ],
      "source": [
        "uv_hour_1202 = uv_hour_1202.orderBy(asc('hour'))\n",
        "uv_hour = uv_hour.orderBy(asc('hour'))\n",
        "\n",
        "uv_hour_1202_pd = uv_hour_1202.toPandas()\n",
        "uv_hour_pd = uv_hour.toPandas()\n",
        "\n",
        "fig, axes = plt.subplots(2,1,sharex=True)\n",
        "axes[0].plot(uv_hour_pd['hour'], uv_hour_pd['uv_hour'], color='blue')\n",
        "axes[1].plot(uv_hour_1202_pd['hour'], uv_hour_1202_pd['1202_uv_hour'], color='red')\n",
        "\n",
        "plt.xticks(rotation=45)\n",
        "plt.xticks(np.arange(0, 24, 1))\n",
        "axes[0].set_title('uv_hour')\n",
        "axes[1].set_title('1202_uv_hour')\n",
        "plt.show()\n"
      ]
    },
    {
      "attachments": {},
      "cell_type": "markdown",
      "metadata": {
        "id": "lpNfLXDBJGYA"
      },
      "source": [
        "From the above figure, it can be concluded that the UV and PV on December 2nd are same as the previous results."
      ]
    },
    {
      "cell_type": "markdown",
      "metadata": {
        "id": "PDwAFVpFJGYB"
      },
      "source": [
        "## Analysis of traffic based on different user behaviors"
      ]
    },
    {
      "cell_type": "markdown",
      "metadata": {
        "id": "bSe4cvtiJGYB"
      },
      "source": [
        "Taobao has a wide range of user distribution, and different users have significant differences in their shopping behaviors. For example, users may have different login habits and purchase preferences. Therefore, analyzing from the perspective of users is important and interesting. In order to obtain user behavior patterns, we mainly analyze the behaviors that users engage in throughout the day (per hour). "
      ]
    },
    {
      "cell_type": "code",
      "execution_count": 16,
      "metadata": {
        "colab": {
          "base_uri": "https://localhost:8080/"
        },
        "id": "7m5fyFT2JGYB",
        "outputId": "908bbf85-9232-4c03-eb88-672220affb22"
      },
      "outputs": [
        {
          "name": "stdout",
          "output_type": "stream",
          "text": [
            "+-----------+----+-----------+\n",
            "|action_type|hour|pv_behavior|\n",
            "+-----------+----+-----------+\n",
            "|        buy|   0|      57776|\n",
            "|        buy|   1|      23169|\n",
            "|        buy|   2|      12012|\n",
            "|        buy|   3|       8026|\n",
            "|        buy|   4|       6748|\n",
            "|        buy|   5|       8135|\n",
            "|        buy|   6|      18014|\n",
            "|        buy|   7|      37679|\n",
            "|        buy|   8|      64917|\n",
            "|        buy|   9|      96134|\n",
            "|        buy|  10|     127933|\n",
            "|        buy|  11|     122048|\n",
            "|        buy|  12|     118591|\n",
            "|        buy|  13|     123427|\n",
            "|        buy|  14|     122172|\n",
            "|        buy|  15|     122733|\n",
            "|        buy|  16|     116446|\n",
            "|        buy|  17|     101301|\n",
            "|        buy|  18|      95907|\n",
            "|        buy|  19|     115032|\n",
            "+-----------+----+-----------+\n",
            "only showing top 20 rows\n",
            "\n"
          ]
        }
      ],
      "source": [
        "pv_behavior = df.groupBy(['action_type', 'hour'])\\\n",
        "    .agg(count('user_id').alias('pv_behavior'))\\\n",
        "    .select('action_type', 'hour', 'pv_behavior')\n",
        "pv_behavior = pv_behavior.orderBy(asc('action_type'),asc('hour'))\n",
        "pv_behavior.show()"
      ]
    },
    {
      "cell_type": "code",
      "execution_count": 17,
      "metadata": {
        "colab": {
          "base_uri": "https://localhost:8080/",
          "height": 465
        },
        "id": "z6x0NjfJJGYB",
        "outputId": "cd18732b-9d08-41fb-c739-19edfd16188c"
      },
      "outputs": [
        {
          "data": {
            "image/png": "[encoded data removed]",
            "text/plain": [
              "<Figure size 640x480 with 1 Axes>"
            ]
          },
          "metadata": {},
          "output_type": "display_data"
        }
      ],
      "source": [
        "pv_behavior_pd = pv_behavior.toPandas()\n",
        "\n",
        "fig, ax = plt.subplots()\n",
        "for action_type, grp in pv_behavior_pd.groupby('action_type'):\n",
        "    ax.plot(grp['hour'], grp['pv_behavior'], label=action_type)\n",
        "ax.legend()\n",
        "ax.set_xlabel('hour')\n",
        "ax.set_ylabel('action_type')\n",
        "plt.show()"
      ]
    },
    {
      "cell_type": "markdown",
      "metadata": {
        "id": "HGGAGqMIJGYB"
      },
      "source": [
        "Because the proportion of 'pv' is very large, it makes the trends of the other types of actions less obvious in the chart."
      ]
    },
    {
      "cell_type": "code",
      "execution_count": 18,
      "metadata": {
        "colab": {
          "base_uri": "https://localhost:8080/",
          "height": 449
        },
        "id": "tlQSTE-RJGYB",
        "outputId": "21fa21d5-345f-44d1-8fc6-06862c03a5cf"
      },
      "outputs": [
        {
          "data": {
            "image/png": "[encoded data removed]",
            "text/plain": [
              "<Figure size 640x480 with 1 Axes>"
            ]
          },
          "metadata": {},
          "output_type": "display_data"
        }
      ],
      "source": [
        "pv_behavior_without_pv = pv_behavior.filter(~(col('action_type') == 'pv'))\n",
        "pv_behavior_without_pv_pd = pv_behavior_without_pv.toPandas()\n",
        "\n",
        "\n",
        "fig, ax = plt.subplots()\n",
        "for action_type, grp in pv_behavior_without_pv_pd.groupby('action_type'):\n",
        "    ax.plot(grp['hour'], grp['pv_behavior'], label=action_type)\n",
        "ax.legend()\n",
        "ax.set_xlabel('hour')\n",
        "ax.set_ylabel('action_type')\n",
        "plt.show()"
      ]
    },
    {
      "cell_type": "markdown",
      "metadata": {
        "id": "lxrR_vnOJGYB"
      },
      "source": [
        "According to the figure, the hourly trend of the four types of behaviors is basically the same, reaching a peak around 7-8am and then dropping to a low point around noon. One possible reason is that 7-8am is the commuting time to work, and people may browse and shop while on the way. After entering work, the frequency decreases and reaches a low point around 12-1pm. As the work time increases and work intensity decreases, the time spent browsing on mobile phones increases, leading to an increase in frequency. Therefore, merchants can push promotional activities during peak hours to improve conversion rates."
      ]
    },
    {
      "cell_type": "markdown",
      "metadata": {
        "id": "DSvP_cSkJGYC"
      },
      "source": [
        "## Funnel Analysis"
      ]
    },
    {
      "cell_type": "code",
      "execution_count": 19,
      "metadata": {
        "id": "KiM6qf6NJGYC"
      },
      "outputs": [],
      "source": [
        "action_type = df.groupBy(col('action_type')).agg(count('user_id').alias('count'))"
      ]
    },
    {
      "cell_type": "code",
      "execution_count": 20,
      "metadata": {
        "colab": {
          "base_uri": "https://localhost:8080/"
        },
        "id": "JY_QMZ4JJGYC",
        "outputId": "ecb1a23d-6aff-4f64-b3fc-d2a22a26ac3e"
      },
      "outputs": [
        {
          "name": "stdout",
          "output_type": "stream",
          "text": [
            "+-----------+--------+\n",
            "|action_type|   count|\n",
            "+-----------+--------+\n",
            "|         pv|89660687|\n",
            "|       cart| 5530446|\n",
            "|        fav| 2888258|\n",
            "|        buy| 2015839|\n",
            "+-----------+--------+\n",
            "\n"
          ]
        }
      ],
      "source": [
        "action_type.orderBy(desc('count')).show()"
      ]
    },
    {
      "cell_type": "markdown",
      "metadata": {
        "id": "CZ37ivTfJGYC"
      },
      "source": [
        "Since adding items to the shopping cart and adding items to the wish list belong to the same type of behavior, I will merge them together."
      ]
    },
    {
      "cell_type": "code",
      "execution_count": 21,
      "metadata": {
        "colab": {
          "base_uri": "https://localhost:8080/"
        },
        "id": "K583wtx8JGYC",
        "outputId": "6e242acd-4141-4ade-c2e6-e87a88a8e836"
      },
      "outputs": [
        {
          "name": "stdout",
          "output_type": "stream",
          "text": [
            "Page view to cart and favorite rate : 9.38951538481966%\n"
          ]
        }
      ],
      "source": [
        "pv_to_cart_fav_rate =  ((action_type.filter(col('action_type') == 'cart').select('count').collect()[0][0] +\n",
        "action_type.filter(col('action_type') == 'fav').select('count').collect()[0][0]) /action_type.filter(col('action_type') == 'pv').select('count').collect()[0][0]) * 100\n",
        "\n",
        "print(\"Page view to cart and favorite rate : \" + str(pv_to_cart_fav_rate) + \"%\")"
      ]
    },
    {
      "cell_type": "code",
      "execution_count": 22,
      "metadata": {
        "colab": {
          "base_uri": "https://localhost:8080/"
        },
        "id": "aQzW7kUOJGYC",
        "outputId": "f5df7360-b0c7-4383-d899-4f07f61795f0"
      },
      "outputs": [
        {
          "name": "stdout",
          "output_type": "stream",
          "text": [
            "Page view to buy rate : 2.248297517506195%\n"
          ]
        }
      ],
      "source": [
        "pv_to_buy_rate = (action_type.filter(col('action_type') == 'buy').select('count').collect()[0][0] / action_type.filter(col('action_type') == 'pv').select('count').collect()[0][0]) * 100\n",
        "\n",
        "print(\"Page view to buy rate : \" + str(pv_to_buy_rate) + \"%\")"
      ]
    },
    {
      "cell_type": "code",
      "execution_count": 23,
      "metadata": {
        "colab": {
          "base_uri": "https://localhost:8080/"
        },
        "id": "9BAqZ43gJGYC",
        "outputId": "6c82ba98-298f-46ae-b0bb-7defaac27327"
      },
      "outputs": [
        {
          "name": "stdout",
          "output_type": "stream",
          "text": [
            "Cart and favorite to buy rate : 18.22492254693383%\n"
          ]
        }
      ],
      "source": [
        "cart_fav_to_buy_rate = (action_type.filter(col('action_type') == 'buy').select('count').collect()[0][0] / (action_type.filter(col('action_type') == 'cart').select('count').collect()[0][0] + (action_type.filter(col('action_type') == 'cart').select('count').collect()[0][0]))) * 100\n",
        "\n",
        "print(\"Cart and favorite to buy rate : \" + str(cart_fav_to_buy_rate) + \"%\")"
      ]
    },
    {
      "cell_type": "markdown",
      "metadata": {
        "id": "xZWnG9ABJGYD"
      },
      "source": [
        "Based on the analysis, the conversion rate from browsing to adding to cart/favorite is approximately 9.39%, while the conversion rate from adding to cart/favorite to purchase is about 18.15%. The overall conversion rate from browsing to purchase is approximately 2.24%."
      ]
    },
    {
      "cell_type": "code",
      "execution_count": 24,
      "metadata": {
        "colab": {
          "base_uri": "https://localhost:8080/"
        },
        "id": "BxBa8WkPJGYD",
        "outputId": "a701fe50-3136-492e-e400-f8a1d4862545"
      },
      "outputs": [
        {
          "name": "stdout",
          "output_type": "stream",
          "text": [
            "+-----------+--------+\n",
            "|action_type|   count|\n",
            "+-----------+--------+\n",
            "|         pv|89660687|\n",
            "|       cart| 5530446|\n",
            "|        fav| 2888258|\n",
            "|        buy| 2015839|\n",
            "+-----------+--------+\n",
            "\n"
          ]
        }
      ],
      "source": [
        "action_type_1202 = df_1202.groupBy(col('action_type')).agg(count('user_id').alias('count'))\n",
        "action_type.orderBy(desc('count')).show()"
      ]
    },
    {
      "cell_type": "code",
      "execution_count": 25,
      "metadata": {
        "colab": {
          "base_uri": "https://localhost:8080/"
        },
        "id": "kIUnP59MJGYD",
        "outputId": "8523deb6-85f9-4205-f767-18b44229e05c"
      },
      "outputs": [
        {
          "name": "stdout",
          "output_type": "stream",
          "text": [
            "12/02 Page view to cart and favorite rate : 9.654114911995837%\n"
          ]
        }
      ],
      "source": [
        "pv_to_cart_fav_rate_1202 =  ((action_type_1202.filter(col('action_type') == 'cart').select('count').collect()[0][0] +\n",
        "action_type_1202.filter(col('action_type') == 'fav').select('count').collect()[0][0]) /action_type_1202.filter(col('action_type') == 'pv').select('count').collect()[0][0]) * 100\n",
        "\n",
        "print(\"12/02 Page view to cart and favorite rate : \" + str(pv_to_cart_fav_rate_1202) + \"%\")"
      ]
    },
    {
      "cell_type": "code",
      "execution_count": 26,
      "metadata": {
        "colab": {
          "base_uri": "https://localhost:8080/"
        },
        "id": "Y8CubQpaJGYD",
        "outputId": "45dc15ac-b72c-4229-a1dd-f3322a3b98fa"
      },
      "outputs": [
        {
          "name": "stdout",
          "output_type": "stream",
          "text": [
            "12/02 Page view to buy rate : 2.0917635578123748%\n"
          ]
        }
      ],
      "source": [
        "pv_to_buy_rate_1202 = (action_type_1202.filter(col('action_type') == 'buy').select('count').collect()[0][0] / action_type_1202.filter(col('action_type') == 'pv').select('count').collect()[0][0]) * 100\n",
        "\n",
        "print(\"12/02 Page view to buy rate : \" + str(pv_to_buy_rate_1202) + \"%\")"
      ]
    },
    {
      "cell_type": "code",
      "execution_count": 58,
      "metadata": {
        "colab": {
          "base_uri": "https://localhost:8080/"
        },
        "id": "CZCbS4leJGYD",
        "outputId": "f88fb82a-755e-4a65-c197-98d25d55959e"
      },
      "outputs": [
        {
          "name": "stdout",
          "output_type": "stream",
          "text": [
            "12/02 Cart and favorite to buy rate : 4.0782161332634415%\n"
          ]
        }
      ],
      "source": [
        "cart_fav_to_buy_rate_1202 = (action_type_1202.filter(col('action_type') == 'buy').select('count').collect()[0][0] / (action_type_1202.filter(col('action_type') == 'cart').select('count').collect()[0][0] + (action_type.filter(col('action_type') == 'cart').select('count').collect()[0][0]))) * 100\n",
        "\n",
        "print(\"12/02 Cart and favorite to buy rate : \" + str(cart_fav_to_buy_rate_1202) + \"%\")"
      ]
    },
    {
      "cell_type": "markdown",
      "metadata": {
        "id": "qtPYxiaIJGYD"
      },
      "source": [
        "By separately analyzing the date with the highest PV/UV on 12/02, it was found that there was no significant change in user behavior, and the conversion rate from adding to cart to purchase even decreased by two percentage points. Therefore, it can be concluded that the reason for the high PV/UV on 12/02 may be due to the weekend."
      ]
    },
    {
      "cell_type": "markdown",
      "metadata": {
        "id": "j7f4slGMJGYD"
      },
      "source": [
        "## FRM\n"
      ]
    },
    {
      "cell_type": "markdown",
      "metadata": {
        "id": "eLgss3hQJGYD"
      },
      "source": [
        "Because this dataset does not include the amount of consumption, only the recent purchase time and the number of purchases are used to measure customer value here."
      ]
    },
    {
      "cell_type": "code",
      "execution_count": 28,
      "metadata": {
        "colab": {
          "base_uri": "https://localhost:8080/"
        },
        "id": "hefaZt5RJGYE",
        "outputId": "e70770ec-bd83-4cff-e754-79cd44ffee2a"
      },
      "outputs": [
        {
          "name": "stdout",
          "output_type": "stream",
          "text": [
            "+-------+-------+-----------+-----------+-------------------+----------+--------+----+\n",
            "|user_id|item_id|category_id|action_type|           datetime|      date|    time|hour|\n",
            "+-------+-------+-----------+-----------+-------------------+----------+--------+----+\n",
            "|    100|1603476|    2951233|        buy|2017-11-25 11:18:28|2017-11-25|11:18:28|  11|\n",
            "|    100|2971043|    4869428|        buy|2017-11-25 21:45:49|2017-11-25|21:45:49|  21|\n",
            "|    100| 598929|    2429887|        buy|2017-11-27 13:10:58|2017-11-27|13:10:58|  13|\n",
            "|    100|1046201|    3002561|        buy|2017-11-27 15:21:38|2017-11-27|15:21:38|  15|\n",
            "|    100|1606258|    4098232|        buy|2017-11-27 21:39:00|2017-11-27|21:39:00|  21|\n",
            "|    100|4840649|    1029459|        buy|2017-11-27 21:42:10|2017-11-27|21:42:10|  21|\n",
            "|    100| 251391|    3738615|        buy|2017-11-27 21:53:02|2017-11-27|21:53:02|  21|\n",
            "|    100|4075065|    2881542|        buy|2017-11-28 09:51:17|2017-11-28|09:51:17|   9|\n",
            "|1000001|4088463|     174239|        buy|2017-12-03 09:22:53|2017-12-03|09:22:53|   9|\n",
            "|1000011|3991727|    3108044|        buy|2017-11-25 09:06:44|2017-11-25|09:06:44|   9|\n",
            "|1000011| 404297|    2578647|        buy|2017-11-25 17:59:01|2017-11-25|17:59:01|  17|\n",
            "| 100002|2976687|     772894|        buy|2017-11-30 20:08:10|2017-11-30|20:08:10|  20|\n",
            "|1000027|1934938|    4718844|        buy|2017-11-29 13:55:33|2017-11-29|13:55:33|  13|\n",
            "|1000027|3241094|    3548883|        buy|2017-12-03 23:15:02|2017-12-03|23:15:02|  23|\n",
            "|1000028|2621260|     722945|        buy|2017-11-29 13:52:07|2017-11-29|13:52:07|  13|\n",
            "|1000028|1910706|    1516409|        buy|2017-12-01 15:12:19|2017-12-01|15:12:19|  15|\n",
            "|1000028| 863811|    3338209|        buy|2017-12-02 21:08:39|2017-12-02|21:08:39|  21|\n",
            "|1000028|3947413|     634390|        buy|2017-12-03 10:18:26|2017-12-03|10:18:26|  10|\n",
            "|1000037|4753136|     890050|        buy|2017-11-28 20:39:04|2017-11-28|20:39:04|  20|\n",
            "|1000037|3233631|     890050|        buy|2017-11-28 20:39:48|2017-11-28|20:39:48|  20|\n",
            "+-------+-------+-----------+-----------+-------------------+----------+--------+----+\n",
            "only showing top 20 rows\n",
            "\n"
          ]
        }
      ],
      "source": [
        "buy = df.filter(col('action_type') == 'buy')\n",
        "buy.show()"
      ]
    },
    {
      "cell_type": "markdown",
      "metadata": {
        "id": "p56WfolYJGYE"
      },
      "source": [
        "Since the dataset include 11.25 to 12.04, so I set 12.04 as a reference date.\n"
      ]
    },
    {
      "cell_type": "code",
      "execution_count": null,
      "metadata": {
        "id": "c51P1g0eJGYE"
      },
      "outputs": [],
      "source": [
        "# calculate recent buy date\n",
        "recency = buy.select(\"user_id\", datediff(lit('2017-12-04'), buy.date).alias(\"Recency\"))\n",
        "\n",
        "# calculate frequency\n",
        "frequency = buy.groupBy('user_id').agg(count('user_id').alias('Frequency'))"
      ]
    },
    {
      "cell_type": "code",
      "execution_count": 30,
      "metadata": {
        "id": "YH7uiMJdJGYE"
      },
      "outputs": [],
      "source": [
        "FR_Model = df\n",
        "FR_Model = df.join(recency, 'user_id').join(frequency, 'user_id')"
      ]
    },
    {
      "cell_type": "code",
      "execution_count": 31,
      "metadata": {
        "colab": {
          "base_uri": "https://localhost:8080/"
        },
        "id": "el_S7KqiJGYE",
        "outputId": "956aa99b-4d63-47ec-b744-ffe6b337446b"
      },
      "outputs": [
        {
          "data": {
            "text/plain": [
              "[2.0, 5.0, 7.0]"
            ]
          },
          "execution_count": 31,
          "metadata": {},
          "output_type": "execute_result"
        }
      ],
      "source": [
        "recency_quartiles = recency.approxQuantile(\"Recency\", [0.25, 0.5, 0.75], 0.01)\n",
        "recency_quartiles\n"
      ]
    },
    {
      "cell_type": "code",
      "execution_count": null,
      "metadata": {
        "id": "CNQ15DWGJGYE"
      },
      "outputs": [],
      "source": [
        "freq_quartiles = frequency.approxQuantile(\"Frequency\", [0.25, 0.5, 0.75], 0.01)\n",
        "freq_quartiles"
      ]
    },
    {
      "cell_type": "markdown",
      "metadata": {
        "id": "Xv6bUPf1JGYE"
      },
      "source": [
        "I calculate the quantile of recency and frequency, so I set 7 and 4 as threshold. Beyond it, I consider he/she as a loyal customer."
      ]
    },
    {
      "cell_type": "code",
      "execution_count": null,
      "metadata": {
        "id": "YEX7-keAJGYF"
      },
      "outputs": [],
      "source": [
        "FR_Model = recency.join(frequency, 'user_id')\n",
        "FR_Model = FR_Model.withColumn(\"R\", when(FR_Model[\"Recency\"] <= 3, \"High\").otherwise(\"Low\"))\n",
        "FR_Model = FR_Model.withColumn(\"F\", when(FR_Model[\"Frequency\"] >= 4, \"High\").otherwise(\"Low\"))\n"
      ]
    },
    {
      "cell_type": "code",
      "execution_count": null,
      "metadata": {
        "id": "lp1_RUHZJGYF"
      },
      "outputs": [],
      "source": [
        "min_R = FR_Model.groupBy('user_id').agg(min('R').alias('min_R'))\n",
        "min_R_Model = FR_Model.join(min_R, 'user_id').filter(col('R') == col('min_R')).drop('min_R')"
      ]
    },
    {
      "cell_type": "code",
      "execution_count": null,
      "metadata": {
        "id": "TzGLHPwdJGYF"
      },
      "outputs": [],
      "source": [
        "FR_Model = min_R_Model.groupBy('user_id').agg(min('R').alias('R'), min('F').alias('F'))\n",
        "FR_Model = FR_Model.withColumn(\"RMF\", \n",
        "                             when((FR_Model[\"R\"] == \"High\") & (FR_Model[\"F\"] == \"High\"), \"High-Value Customers\")\n",
        "                             .when((FR_Model[\"R\"] == \"High\") & (FR_Model[\"F\"] == \"Low\"), \"New Customers\")\n",
        "                             .when((FR_Model[\"R\"] == \"Low\") & (FR_Model[\"F\"] == \"High\"), \"At-Risk Customers\")\n",
        "                             .when((FR_Model[\"R\"] == \"Low\") & (FR_Model[\"F\"] == \"Low\"), \"Low-Value Customers\"))\n"
      ]
    },
    {
      "cell_type": "code",
      "execution_count": 36,
      "metadata": {
        "colab": {
          "base_uri": "https://localhost:8080/",
          "height": 428
        },
        "id": "9ebYoyn4_Shr",
        "outputId": "87ec5062-3257-43b9-adf3-eaff347cf062"
      },
      "outputs": [
        {
          "data": {
            "image/png": "[encoded data removed]",
            "text/plain": [
              "<Figure size 640x480 with 1 Axes>"
            ]
          },
          "metadata": {},
          "output_type": "display_data"
        }
      ],
      "source": [
        "fr_count = FR_Model.groupBy(\"RMF\").agg(count(\"*\").alias(\"count\"))\n",
        "\n",
        "fr_count_pd = fr_count.toPandas()\n",
        "\n",
        "\n",
        "plt.pie(fr_count_pd[\"count\"], labels=fr_count_pd[\"RMF\"], autopct=\"%1.1f%%\")\n",
        "plt.title(\"RMF Analysis\")\n",
        "plt.show()"
      ]
    },
    {
      "cell_type": "markdown",
      "metadata": {
        "id": "vsiR6sj7JGYF"
      },
      "source": [
        "## ARPU"
      ]
    },
    {
      "cell_type": "markdown",
      "metadata": {
        "id": "y3U0sa8XJGYF"
      },
      "source": [
        "ARPU (Average Revenue Per User) represents the conversion of daily revenue among all active users. Specifically, it is calculated by dividing daily revenue by the number of daily active users, thus indicating the efficiency of converting daily active users into revenue.\n",
        "\n",
        "The dataset does not contain any monetary values. Therefore, we can modify the ARPU metric to measure the average daily consumption per active user on the platform.\n",
        "\n",
        "The calculation formula is: ARPU = Total daily consumption / Daily active users\n"
      ]
    },
    {
      "cell_type": "code",
      "execution_count": null,
      "metadata": {
        "id": "t4h4iPOOJGYF"
      },
      "outputs": [],
      "source": [
        "# add 1 for each user login in each day\n",
        "data_userdf = df.withColumn('loging', lit(1))\n",
        "\n",
        "df_arpu = data_userdf.groupBy('user_id', 'date', 'action_type').agg(count('loging').alias('count'))\n"
      ]
    },
    {
      "cell_type": "code",
      "execution_count": null,
      "metadata": {
        "id": "ctaY4Re4JGYF"
      },
      "outputs": [],
      "source": [
        "# ARPU = Total daily consumption / Daily active users\n",
        "arpu = df_arpu.filter(col('action_type') == 'buy').groupBy('date').agg(sum('count').alias('daily_consumption'), approx_count_distinct('user_id').alias('daily_active_users'))\n",
        "arpu = arpu.withColumn('ARPU', col('daily_consumption') / col('daily_active_users')).select('date', 'ARPU')\n",
        "\n"
      ]
    },
    {
      "cell_type": "code",
      "execution_count": null,
      "metadata": {
        "id": "HUrniIdrJGYG"
      },
      "outputs": [],
      "source": [
        "arpu = df_arpu.filter(col('action_type') == 'buy').groupBy('date') \\\n",
        "            .agg(sum('count').alias('daily_consumption'), \\\n",
        "                 approx_count_distinct('user_id').alias('daily_active_users')) \\\n",
        "            .withColumn('ARPU', col('daily_consumption') / col('daily_active_users')) \\\n",
        "            .select('date', 'ARPU')\n",
        "\n",
        "arpu_pd = arpu.toPandas()\n",
        "arpu_pd = arpu_pd.sort_values(by='date')"
      ]
    },
    {
      "cell_type": "code",
      "execution_count": 48,
      "metadata": {
        "colab": {
          "base_uri": "https://localhost:8080/",
          "height": 487
        },
        "id": "CvlYr5mPJGYG",
        "outputId": "f9e3d5d2-8e99-4dfd-b869-88e9805883c8"
      },
      "outputs": [
        {
          "data": {
            "image/png": "[encoded data removed]",
            "text/plain": [
              "<Figure size 1000x500 with 1 Axes>"
            ]
          },
          "metadata": {},
          "output_type": "display_data"
        }
      ],
      "source": [
        "plt.figure(figsize=(10, 5))\n",
        "plt.plot(arpu_pd['date'], arpu_pd['ARPU'])\n",
        "plt.title('ARPU')\n",
        "plt.xlabel('Date')\n",
        "plt.ylabel('ARPU')\n",
        "plt.show()"
      ]
    },
    {
      "cell_type": "markdown",
      "metadata": {
        "id": "xXoGJ6yoJGYG"
      },
      "source": [
        "## ARPPU"
      ]
    },
    {
      "cell_type": "markdown",
      "metadata": {
        "id": "MsEsMbkZJGYG"
      },
      "source": [
        "ARPPU (average revenue per paying user) refers to the revenue obtained from each paying user, reflecting the average consumption of users on the entire platform.\n",
        "\n",
        "The calculation method is: ARPPU = total revenue / number of paying users. However, there is no revenue amount in this dataset, so we can make a slight modification to the calculation method and convert the total revenue to the total number of purchase behavior.\n",
        "\n",
        "Defined as follows: ARPPU = total number of purchases / number of active paying users on that day. It can be seen that the only difference between ARPU and ARPPU is the denominator. The denominator of ARPU is the number of active users (including 4 types of behavior), while the denominator of ARPPU is the number of active paying users, so the calculation of ARPPU will be simpler."
      ]
    },
    {
      "cell_type": "code",
      "execution_count": 49,
      "metadata": {
        "id": "LggxBvTuJGYG"
      },
      "outputs": [],
      "source": [
        "df_arppu = df.filter(df.action_type == 'buy') \\\n",
        "    .groupBy(['date', 'user_id']) \\\n",
        "    .agg(count('*').alias('buy_count')) \\\n",
        "    .select(['date', 'user_id', 'buy_count'])\n"
      ]
    },
    {
      "cell_type": "code",
      "execution_count": 50,
      "metadata": {
        "id": "lXpa97cQJGYG"
      },
      "outputs": [],
      "source": [
        "buy_data = df.filter(df.action_type == 'buy')\n",
        "daily_buy_count = buy_data.groupby(['date', 'user_id']).agg(count('action_type').alias('buy_count'))\n",
        "total_daily_buy_count = daily_buy_count.groupby('date').agg(sum('buy_count').alias('daily_buy_count'), count('user_id').alias('daily_active_paying_users'))\n",
        "arppu = total_daily_buy_count.withColumn('ARPPU', col('daily_buy_count') / col('daily_active_paying_users')).select('date', 'ARPPU')"
      ]
    },
    {
      "cell_type": "code",
      "execution_count": 51,
      "metadata": {
        "colab": {
          "base_uri": "https://localhost:8080/",
          "height": 487
        },
        "id": "IurU-huyJGYG",
        "outputId": "bca3ab4a-30c6-4e39-d1cf-496bd234c264"
      },
      "outputs": [
        {
          "data": {
            "image/png": "[encoded data removed]",
            "text/plain": [
              "<Figure size 1000x500 with 1 Axes>"
            ]
          },
          "metadata": {},
          "output_type": "display_data"
        }
      ],
      "source": [
        "buy_actions = df.filter(df.action_type == 'buy')\n",
        "\n",
        "buy_count = buy_actions.groupBy('date', 'user_id').agg(count('user_id').alias('buy_count'))\n",
        "\n",
        "arppu = buy_count.groupBy('date').agg(sum('buy_count').alias('total_buy_count'), count('user_id').alias('active_paying_users'))\n",
        "\n",
        "arppu = arppu.withColumn('ARPPU', col('total_buy_count') / col('active_paying_users')).select('date', 'ARPPU')\n",
        "\n",
        "arppu_pd = arppu.toPandas()\n",
        "arppu_pd = arppu_pd.sort_values(by='date')\n",
        "\n",
        "plt.figure(figsize=(10, 5))\n",
        "plt.plot(arpu_pd['date'], arppu_pd['ARPPU'])\n",
        "plt.title('ARPPU')\n",
        "plt.xlabel('Date')\n",
        "plt.ylabel('ARPPU')\n",
        "plt.show()\n",
        "\n"
      ]
    },
    {
      "cell_type": "markdown",
      "metadata": {
        "id": "GC8dBWgsJGYG"
      },
      "source": [
        "## item\n"
      ]
    },
    {
      "cell_type": "markdown",
      "metadata": {
        "id": "srOGvcoxJGYG"
      },
      "source": [
        "### Page View"
      ]
    },
    {
      "cell_type": "code",
      "execution_count": 52,
      "metadata": {
        "colab": {
          "base_uri": "https://localhost:8080/"
        },
        "id": "GQaUt07dJGYH",
        "outputId": "d0322b09-ccfb-4748-df12-e9b7eaefd42c"
      },
      "outputs": [
        {
          "name": "stdout",
          "output_type": "stream",
          "text": [
            "+-------+-------------+\n",
            "|item_id|pv_count_item|\n",
            "+-------+-------------+\n",
            "| 812879|        30079|\n",
            "|3845720|        25650|\n",
            "| 138964|        21103|\n",
            "|2331370|        19482|\n",
            "|2032668|        19141|\n",
            "|1535294|        17840|\n",
            "|  59883|        17404|\n",
            "|4211339|        17349|\n",
            "|3031354|        17169|\n",
            "|3371523|        17159|\n",
            "|2338453|        17069|\n",
            "|2367945|        16190|\n",
            "|1591862|        16185|\n",
            "| 987143|        15988|\n",
            "|2818406|        15980|\n",
            "|4649427|        15144|\n",
            "|1583704|        14779|\n",
            "|2453685|        14569|\n",
            "|2279428|        14257|\n",
            "|4443059|        14082|\n",
            "+-------+-------------+\n",
            "only showing top 20 rows\n",
            "\n",
            "+-----------+-----------------+\n",
            "|category_id|pv_count_category|\n",
            "+-----------+-----------------+\n",
            "|    4756105|          4477682|\n",
            "|    2355072|          3151734|\n",
            "|    4145813|          3150716|\n",
            "|    3607361|          2976359|\n",
            "|     982926|          2798730|\n",
            "|    2520377|          2029468|\n",
            "|    4801426|          1864651|\n",
            "|    1320293|          1793240|\n",
            "|    2465336|          1504738|\n",
            "|    3002561|          1421832|\n",
            "|    2735466|          1115651|\n",
            "|    4181361|          1001224|\n",
            "|     149192|           990662|\n",
            "|    1080785|           959775|\n",
            "|    2885642|           954553|\n",
            "|    4217906|           924904|\n",
            "|     154040|           906086|\n",
            "|    3738615|           829042|\n",
            "|    1879194|           759093|\n",
            "|    2640118|           729806|\n",
            "+-----------+-----------------+\n",
            "only showing top 20 rows\n",
            "\n",
            "+-----------+--------+\n",
            "|category_id|top_item|\n",
            "+-----------+--------+\n",
            "|     588463|  999999|\n",
            "|    3367924|  999997|\n",
            "|    3002561|  999996|\n",
            "|    1045172|  999995|\n",
            "|     570735|  999994|\n",
            "|     550660|  999993|\n",
            "|    2433733|  999992|\n",
            "|    2881542|  999991|\n",
            "|    4643350|  999990|\n",
            "|     777988|   99999|\n",
            "|    2085893|  999989|\n",
            "|    2558244|  999986|\n",
            "|    1723409|  999985|\n",
            "|     983613|  999984|\n",
            "|     154040|  999983|\n",
            "|     703487|  999982|\n",
            "|    3549297|  999981|\n",
            "|    4402326|   99998|\n",
            "|    3287763|  999979|\n",
            "|    2520377|  999978|\n",
            "+-----------+--------+\n",
            "only showing top 20 rows\n",
            "\n"
          ]
        }
      ],
      "source": [
        "pv_df = df.filter(df[\"action_type\"] == \"pv\")\n",
        "\n",
        "# Calculate the number of page views for each item\n",
        "item_pv_counts = pv_df.groupBy(\"item_id\").agg(count(\"*\").alias(\"pv_count_item\")).orderBy(desc(\"pv_count_item\"))\n",
        "\n",
        "# Calculate the number of page views for each category\n",
        "category_pv_counts = pv_df.groupBy(\"category_id\").agg(count(\"*\").alias(\"pv_count_category\")).orderBy(desc(\"pv_count_category\"))\n",
        "\n",
        "# Calculate the top item for each category\n",
        "pv_category_top_item = pv_df.groupBy(\"category_id\").agg(max(\"item_id\").alias(\"top_item\")).orderBy(desc(\"top_item\"))\n",
        "\n",
        "\n",
        "item_pv_counts.show()\n",
        "category_pv_counts.show()\n",
        "pv_category_top_item.show()\n"
      ]
    },
    {
      "cell_type": "code",
      "execution_count": 53,
      "metadata": {
        "colab": {
          "base_uri": "https://localhost:8080/"
        },
        "id": "zwR5TXd7Emv4",
        "outputId": "c75785d5-3cbc-41b1-a1b1-93091b3b940e"
      },
      "outputs": [
        {
          "name": "stdout",
          "output_type": "stream",
          "text": [
            "+-------+--------------+\n",
            "|item_id|fav_count_item|\n",
            "+-------+--------------+\n",
            "|2279428|           971|\n",
            "| 812879|           875|\n",
            "|2331370|           873|\n",
            "|2818406|           822|\n",
            "|3330337|           710|\n",
            "|3845720|           702|\n",
            "|1535294|           675|\n",
            "| 138964|           642|\n",
            "|2453685|           636|\n",
            "|2364679|           621|\n",
            "|1583704|           578|\n",
            "|1783990|           556|\n",
            "|1419997|           534|\n",
            "|2032668|           517|\n",
            "|3031354|           513|\n",
            "|1343119|           483|\n",
            "|4649427|           476|\n",
            "| 740947|           474|\n",
            "|3403645|           469|\n",
            "|2783905|           453|\n",
            "+-------+--------------+\n",
            "only showing top 20 rows\n",
            "\n",
            "+-----------+------------------+\n",
            "|category_id|fav_count_category|\n",
            "+-----------+------------------+\n",
            "|    4756105|            139373|\n",
            "|    4145813|            110666|\n",
            "|     982926|             89137|\n",
            "|    2355072|             87241|\n",
            "|    3607361|             71334|\n",
            "|    4801426|             68319|\n",
            "|    2520377|             67400|\n",
            "|    2465336|             54946|\n",
            "|    3002561|             54399|\n",
            "|    1320293|             53867|\n",
            "|    4181361|             42952|\n",
            "|     149192|             38297|\n",
            "|    2735466|             35707|\n",
            "|    4217906|             35354|\n",
            "|    1080785|             32369|\n",
            "|    2885642|             29112|\n",
            "|    1879194|             26699|\n",
            "|    1464116|             24795|\n",
            "|    4357323|             24328|\n",
            "|     570735|             24070|\n",
            "+-----------+------------------+\n",
            "only showing top 20 rows\n",
            "\n",
            "+-----------+--------+\n",
            "|category_id|top_item|\n",
            "+-----------+--------+\n",
            "|    2558244|  999986|\n",
            "|     154040|  999983|\n",
            "|    2285980|  999976|\n",
            "|    3730378|  999975|\n",
            "|    3628508|  999973|\n",
            "|    4148053|  999972|\n",
            "|    2926020|  999965|\n",
            "|    3745824|  999958|\n",
            "|    4169506|  999954|\n",
            "|     235534|  999951|\n",
            "|    3844144|  999949|\n",
            "|    1851156|  999930|\n",
            "|    2020240|  999915|\n",
            "|    2634918|  999912|\n",
            "|    2113224|  999903|\n",
            "|    1320530|  999902|\n",
            "|    4082778|  999895|\n",
            "|    1988611|  999894|\n",
            "|    4181361|  999889|\n",
            "|    3860845|  999885|\n",
            "+-----------+--------+\n",
            "only showing top 20 rows\n",
            "\n"
          ]
        }
      ],
      "source": [
        "fav_df = df.filter(df[\"action_type\"] == \"fav\")\n",
        "\n",
        "# calculate the number of fav for each item\n",
        "item_fav_count = fav_df.groupBy(\"item_id\").agg(count(\"*\").alias(\"fav_count_item\")).orderBy(desc(\"fav_count_item\"))\n",
        "\n",
        "# calculate the number of fav for each category\n",
        "category_fav_count = fav_df.groupBy(\"category_id\").agg(count(\"*\").alias(\"fav_count_category\")).orderBy(desc(\"fav_count_category\"))\n",
        "\n",
        "\n",
        "# calculate the top item for each category\n",
        "fav_category_top_items = fav_df.groupBy(\"category_id\").agg(max(\"item_id\").alias(\"top_item\")).orderBy(desc(\"top_item\"))\n",
        "\n",
        "\n",
        "\n",
        "item_fav_count.show()\n",
        "category_fav_count.show()\n",
        "fav_category_top_items.show()"
      ]
    },
    {
      "cell_type": "code",
      "execution_count": 54,
      "metadata": {
        "colab": {
          "base_uri": "https://localhost:8080/"
        },
        "id": "1uxF1mksJGYH",
        "outputId": "71843095-8f6d-4151-b9d1-9150728568f5"
      },
      "outputs": [
        {
          "name": "stdout",
          "output_type": "stream",
          "text": [
            "+-------+---------------+\n",
            "|item_id|cart_count_item|\n",
            "+-------+---------------+\n",
            "|3031354|           1761|\n",
            "| 812879|           1528|\n",
            "|2331370|           1513|\n",
            "|2818406|           1415|\n",
            "|2560262|           1271|\n",
            "| 138964|           1133|\n",
            "|1535294|           1114|\n",
            "|1583704|           1106|\n",
            "|2453685|           1053|\n",
            "|2279428|            981|\n",
            "|4443059|            951|\n",
            "| 363858|            908|\n",
            "| 705557|            877|\n",
            "|4211339|            863|\n",
            "|4736400|            860|\n",
            "|3715112|            856|\n",
            "|3845720|            851|\n",
            "|1684440|            849|\n",
            "|2521928|            835|\n",
            "|1444258|            821|\n",
            "+-------+---------------+\n",
            "only showing top 20 rows\n",
            "\n",
            "+-----------+-------------------+\n",
            "|category_id|cart_count_category|\n",
            "+-----------+-------------------+\n",
            "|    4756105|             215146|\n",
            "|    4145813|             174419|\n",
            "|     982926|             153906|\n",
            "|    4801426|             122145|\n",
            "|    2355072|             121867|\n",
            "|    3607361|             109102|\n",
            "|    1320293|              95049|\n",
            "|    2735466|              93828|\n",
            "|    2520377|              86145|\n",
            "|    2465336|              84276|\n",
            "|    3002561|              80589|\n",
            "|    2640118|              62626|\n",
            "|     149192|              62271|\n",
            "|    4217906|              61361|\n",
            "|    1464116|              60600|\n",
            "|    4181361|              57175|\n",
            "|    2885642|              56622|\n",
            "|    3738615|              56162|\n",
            "|     570735|              46192|\n",
            "|    4357323|              44199|\n",
            "+-----------+-------------------+\n",
            "only showing top 20 rows\n",
            "\n",
            "+-----------+--------+\n",
            "|category_id|top_item|\n",
            "+-----------+--------+\n",
            "|    3002561|  999996|\n",
            "|     154040|  999983|\n",
            "|     703487|  999982|\n",
            "|    3549297|  999981|\n",
            "|    3730378|  999975|\n",
            "|    3628508|  999973|\n",
            "|    4583884|  999971|\n",
            "|    2926020|  999965|\n",
            "|    4284875|  999963|\n",
            "|    4169506|  999954|\n",
            "|     235534|  999951|\n",
            "|    2465336|   99995|\n",
            "|    3844144|  999949|\n",
            "|     633394|  999942|\n",
            "|    1851156|  999930|\n",
            "|    1066674|  999929|\n",
            "|    3673501|  999923|\n",
            "|    2020240|  999915|\n",
            "|    2634918|  999912|\n",
            "|    3378887|  999909|\n",
            "+-----------+--------+\n",
            "only showing top 20 rows\n",
            "\n"
          ]
        }
      ],
      "source": [
        "cart_df = df.filter(df[\"action_type\"] == \"cart\")\n",
        "\n",
        "# calculate the number of cart for each item\n",
        "item_cart_count = cart_df.groupBy(\"item_id\").agg(count(\"*\").alias(\"cart_count_item\")).orderBy(desc(\"cart_count_item\"))\n",
        "\n",
        "\n",
        "# calculate the number of cart for each category\n",
        "category_cart_count = cart_df.groupBy(\"category_id\").agg(count(\"*\").alias(\"cart_count_category\")).orderBy(desc(\"cart_count_category\"))\n",
        "\n",
        "\n",
        "# calculate the top item for each category\n",
        "cart_category_top_items = cart_df.groupBy(\"category_id\").agg(max(\"item_id\").alias(\"top_item\")).orderBy(desc(\"top_item\"))\n",
        "\n",
        "\n",
        "item_cart_count.show()\n",
        "category_cart_count.show()\n",
        "cart_category_top_items.show()"
      ]
    },
    {
      "cell_type": "code",
      "execution_count": 56,
      "metadata": {
        "colab": {
          "base_uri": "https://localhost:8080/"
        },
        "id": "h1ZR61qyJGYH",
        "outputId": "eb3aba5d-4289-4917-ea0a-d774ddf2dc8c"
      },
      "outputs": [
        {
          "name": "stdout",
          "output_type": "stream",
          "text": [
            "+-------+--------------+\n",
            "|item_id|buy_count_item|\n",
            "+-------+--------------+\n",
            "|3122135|          1408|\n",
            "|3031354|           950|\n",
            "|3964583|           675|\n",
            "|2560262|           665|\n",
            "|2964774|           629|\n",
            "| 740947|           560|\n",
            "|1910706|           548|\n",
            "|1116492|           512|\n",
            "| 705557|           497|\n",
            "|4443059|           493|\n",
            "|1415828|           488|\n",
            "|1034594|           481|\n",
            "|1168232|           465|\n",
            "|3189426|           453|\n",
            "|4219087|           442|\n",
            "| 265985|           441|\n",
            "| 257772|           404|\n",
            "|1535294|           402|\n",
            "|2955846|           394|\n",
            "|5062984|           391|\n",
            "+-------+--------------+\n",
            "only showing top 20 rows\n",
            "\n",
            "+-----------+------------------+\n",
            "|category_id|buy_count_category|\n",
            "+-----------+------------------+\n",
            "|    1464116|             34591|\n",
            "|    2735466|             33730|\n",
            "|    2885642|             31844|\n",
            "|    4145813|             31658|\n",
            "|    4756105|             28258|\n",
            "|    4801426|             26495|\n",
            "|     982926|             24825|\n",
            "|    2640118|             18332|\n",
            "|    4159072|             18016|\n",
            "|    1320293|             17137|\n",
            "|    3002561|             16472|\n",
            "|    4357323|             15854|\n",
            "|    4789432|             15696|\n",
            "|     903809|             15447|\n",
            "|    4217906|             14442|\n",
            "|    1299190|             13723|\n",
            "|     570735|             13711|\n",
            "|    2465336|             13350|\n",
            "|    1879194|             12868|\n",
            "|    3607361|             12721|\n",
            "+-----------+------------------+\n",
            "only showing top 20 rows\n",
            "\n",
            "+-----------+--------+\n",
            "|category_id|top_item|\n",
            "+-----------+--------+\n",
            "|    3002561|  999996|\n",
            "|     777988|   99999|\n",
            "|    3730378|  999975|\n",
            "|    3628508|  999973|\n",
            "|    4284875|  999963|\n",
            "|    4169506|  999954|\n",
            "|    2465336|   99995|\n",
            "|    3844144|  999949|\n",
            "|    2735466|  999943|\n",
            "|     120033|  999940|\n",
            "|    1851156|  999930|\n",
            "|    1066674|  999929|\n",
            "|    3673501|  999923|\n",
            "|    2020240|  999915|\n",
            "|    4544743|  999910|\n",
            "|    2759887|  999908|\n",
            "|    3099296|  999905|\n",
            "|    2113224|  999903|\n",
            "|    1320530|  999902|\n",
            "|    4082778|  999895|\n",
            "+-----------+--------+\n",
            "only showing top 20 rows\n",
            "\n"
          ]
        }
      ],
      "source": [
        "buy_df = df.filter(df[\"action_type\"] == \"buy\")\n",
        "\n",
        "# calculate the number of buy for each item\n",
        "item_buy_count = buy_df.groupBy(\"item_id\").agg(count(\"*\").alias(\"buy_count_item\")).orderBy(desc(\"buy_count_item\"))\n",
        "\n",
        "\n",
        "# calculate the number of buy for each category\n",
        "category_buy_count = buy_df.groupBy(\"category_id\").agg(count(\"*\").alias(\"buy_count_category\")).orderBy(desc(\"buy_count_category\"))\n",
        "\n",
        "\n",
        "\n",
        "# calculate the top item for each category\n",
        "buy_category_top_items = buy_df.groupBy(\"category_id\").agg(max(\"item_id\").alias(\"top_item\")).orderBy(desc(\"top_item\"))\n",
        "\n",
        "\n",
        "\n",
        "item_buy_count.show()\n",
        "category_buy_count.show()\n",
        "buy_category_top_items.show()"
      ]
    },
    {
      "cell_type": "code",
      "execution_count": 57,
      "metadata": {
        "colab": {
          "base_uri": "https://localhost:8080/"
        },
        "id": "m_EXko6sJGYH",
        "outputId": "004f6fdb-cc21-4aec-8762-9d8bf5bf0aab"
      },
      "outputs": [
        {
          "name": "stdout",
          "output_type": "stream",
          "text": [
            "+-------+---------+--------+---------------+\n",
            "|item_id|buy_count|pv_count|conversion_rate|\n",
            "+-------+---------+--------+---------------+\n",
            "|  11610|       46|       1|           46.0|\n",
            "|1117328|       45|       1|           45.0|\n",
            "|1297895|       44|       1|           44.0|\n",
            "|1568681|       33|       1|           33.0|\n",
            "|1102839|       32|       1|           32.0|\n",
            "|4763455|       32|       1|           32.0|\n",
            "|1880775|      127|       4|          31.75|\n",
            "|5045642|       30|       1|           30.0|\n",
            "|4471603|       52|       2|           26.0|\n",
            "|4150970|       72|       3|           24.0|\n",
            "+-------+---------+--------+---------------+\n",
            "only showing top 10 rows\n",
            "\n"
          ]
        }
      ],
      "source": [
        "item_buy_pv_count = df.filter(df.action_type.isin(['pv', 'buy'])) \\\n",
        "                      .groupBy('item_id') \\\n",
        "                      .agg(sum(when(col('action_type') == 'buy', 1).otherwise(0)).alias('buy_count'),\n",
        "                           sum(when(col('action_type') == 'pv', 1).otherwise(0)).alias('pv_count'))\n",
        "\n",
        "item_buy_pv_count = item_buy_pv_count.withColumn('conversion_rate', col('buy_count') / col('pv_count'))\n",
        "\n",
        "item_buy_pv_count.sort(desc('conversion_rate')).show(10)\n"
      ]
    },
    {
      "attachments": {},
      "cell_type": "markdown",
      "metadata": {},
      "source": [
        "## Conclusion\n"
      ]
    },
    {
      "attachments": {},
      "cell_type": "markdown",
      "metadata": {},
      "source": [
        "Based on the analysis of user behavior, it can be observed that the conversion rate from click to purchase is relatively high, and it is possible to improve the conversion rate from wishlist/cart to purchase. The conversion rate from click to purchase is only 2.24%, so improving this conversion rate is a key focus. Suggestions for this stage include:\n",
        "Optimizing the search accuracy and recommendation strategy of the e-commerce platform, and optimizing the priority of sorting search and filter results.\n",
        "Providing customers with product comparison functionality, so that users do not need to repeatedly return to search results for clicking and viewing, making it easier for users to select desired products and increasing the conversion from click to subsequent actions.\n",
        "Optimizing the process of adding products to wishlist/cart to purchase, increasing the frequency of users adding products to wishlist/cart, in order to improve the purchase conversion rate.\n",
        "Based on the analysis of user behavior, it can be seen that the peak period of user activity is mainly between 20:00-22:00, during which the user usage is the highest and marketing activities are more likely to reach users. Therefore, marketing activities can be scheduled during this time period for user acquisition and conversion.\n",
        "\n",
        "During the 9-day study period, there were two weekends. The first weekend did not show a significant change in user activity, while the second weekend showed a significant increase in clicks and cart additions, possibly due to the pre-heating for the Double Twelve (12/12) shopping festival. Therefore, expanding the study time frame for validation can help identify user shopping preferences during weekends and plan marketing activities accordingly.\n",
        "\n",
        "Highlighting key information that users focus on in the product detail page, optimizing the presentation format, and reducing users' time cost.\n",
        "Strengthening quality control for these products, and actively managing user feedback and comments to optimize products based on strengths and weaknesses.\n",
        "Additionally, for the top 20 products in terms of sales, prioritizing their display on the e-commerce homepage to meet users' purchasing needs.\n",
        "By using the RFM model to segment customer groups, different management strategies can be adopted for different customer segments to achieve precise marketing:\n",
        "Important high-value customers should be given special attention and maintained, with efforts to improve satisfaction and increase retention.\n",
        "For New Customers and At-Risk Customers, offering discounts or bundled sales to increase their purchase frequency.\n",
        "For Low-Value Customers, implementing personalized marketing based on their shopping habits to rekindle their purchase intent.\n"
      ]
    }
  ],
  "metadata": {
    "colab": {
      "provenance": []
    },
    "gpuClass": "standard",
    "kernelspec": {
      "display_name": "base",
      "language": "python",
      "name": "python3"
    },
    "language_info": {
      "codemirror_mode": {
        "name": "ipython",
        "version": 3
      },
      "file_extension": ".py",
      "mimetype": "text/x-python",
      "name": "python",
      "nbconvert_exporter": "python",
      "pygments_lexer": "ipython3",
      "version": "3.10.10"
    }
  },
  "nbformat": 4,
  "nbformat_minor": 0
}
